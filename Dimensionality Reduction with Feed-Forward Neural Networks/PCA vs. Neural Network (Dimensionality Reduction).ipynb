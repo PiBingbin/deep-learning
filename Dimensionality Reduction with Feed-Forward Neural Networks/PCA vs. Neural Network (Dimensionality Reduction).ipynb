{
 "cells": [
  {
   "cell_type": "code",
   "execution_count": null,
   "metadata": {
    "collapsed": true
   },
   "outputs": [],
   "source": [
    "# Importing the libraries\n",
    "%matplotlib notebook\n",
    "import pandas as pd\n",
    "import numpy as np\n",
    "import matplotlib.pyplot as plt\n",
    "from scipy import linalg\n",
    "import seaborn as sns; sns.set()\n",
    "import tensorflow as tf"
   ]
  },
  {
   "cell_type": "code",
   "execution_count": null,
   "metadata": {},
   "outputs": [],
   "source": [
    "from tensorflow.python.client import device_lib\n",
    "\n",
    "device_lib.list_local_devices()"
   ]
  },
  {
   "cell_type": "code",
   "execution_count": null,
   "metadata": {
    "collapsed": true
   },
   "outputs": [],
   "source": [
    "# Reading the dataset\n",
    "data = pd.read_csv('./data/fashion/fashion-mnist_train.csv')"
   ]
  },
  {
   "cell_type": "code",
   "execution_count": null,
   "metadata": {},
   "outputs": [],
   "source": [
    "data.tail()"
   ]
  },
  {
   "cell_type": "code",
   "execution_count": null,
   "metadata": {
    "collapsed": true
   },
   "outputs": [],
   "source": [
    "# Extracting label column from the data\n",
    "labels = data['label']\n",
    "data = data.drop(columns=['label'])"
   ]
  },
  {
   "cell_type": "code",
   "execution_count": null,
   "metadata": {},
   "outputs": [],
   "source": [
    "data.shape"
   ]
  },
  {
   "cell_type": "code",
   "execution_count": null,
   "metadata": {},
   "outputs": [],
   "source": [
    "# We should use axis-0 for substracting the mean on PCA\n",
    "data.mean(axis=0).shape"
   ]
  },
  {
   "cell_type": "code",
   "execution_count": null,
   "metadata": {
    "collapsed": true
   },
   "outputs": [],
   "source": [
    "# Normalizing the pixels in range [0.-1.]\n",
    "data = data / 255."
   ]
  },
  {
   "cell_type": "markdown",
   "metadata": {},
   "source": [
    "### PCA on scikit-learn library (Baseline)"
   ]
  },
  {
   "cell_type": "code",
   "execution_count": null,
   "metadata": {
    "collapsed": true
   },
   "outputs": [],
   "source": [
    "from sklearn.decomposition import PCA\n",
    "\n",
    "pca = PCA(n_components=2)\n",
    "projected = pca.fit_transform(data)"
   ]
  },
  {
   "cell_type": "code",
   "execution_count": null,
   "metadata": {},
   "outputs": [],
   "source": [
    "# Plotting the projected data\n",
    "plt.scatter(projected[:, 0], projected[:, 1],\n",
    "            c=labels, edgecolor='none', alpha=0.9,\n",
    "            cmap=plt.cm.get_cmap('plasma', 10))\n",
    "plt.xlabel('first principle component')\n",
    "plt.ylabel('second principle component')\n",
    "plt.colorbar();"
   ]
  },
  {
   "cell_type": "code",
   "execution_count": null,
   "metadata": {
    "collapsed": true
   },
   "outputs": [],
   "source": [
    "from sklearn.decomposition import PCA\n",
    "\n",
    "pca = PCA(n_components=3)\n",
    "projected = pca.fit_transform(data)"
   ]
  },
  {
   "cell_type": "code",
   "execution_count": null,
   "metadata": {},
   "outputs": [],
   "source": [
    "# Plotting the projected data\n",
    "plt.scatter(projected[:, 0], projected[:, 1], projected[:, 2],\n",
    "            c=labels, edgecolor='none', alpha=0.9,\n",
    "            cmap=plt.cm.get_cmap('plasma', 10))\n",
    "plt.xlabel('first principle component')\n",
    "plt.ylabel('second principle component')\n",
    "plt.colorbar();"
   ]
  },
  {
   "cell_type": "markdown",
   "metadata": {},
   "source": [
    "### My PCA implementation"
   ]
  },
  {
   "cell_type": "code",
   "execution_count": null,
   "metadata": {
    "collapsed": true
   },
   "outputs": [],
   "source": [
    "def my_PCA(data, num_components=2):   \n",
    "    data -= data.mean(axis=0)\n",
    "    C = np.cov(data, rowvar=False)\n",
    "    eig_vals, eig_vecs = linalg.eigh(C)\n",
    "    \n",
    "    idx = np.argsort(eig_vals)[::-1]\n",
    "    eig_vecs = eig_vecs[:, idx]\n",
    "    eig_vals = eig_vals[idx]\n",
    "    \n",
    "    eig_vecs = eig_vecs[:, :num_components]\n",
    "    \n",
    "    projection = np.dot(eig_vecs.T, data.T).T\n",
    "    \n",
    "    return projection"
   ]
  },
  {
   "cell_type": "code",
   "execution_count": null,
   "metadata": {
    "collapsed": true
   },
   "outputs": [],
   "source": [
    "projected = my_PCA(data)"
   ]
  },
  {
   "cell_type": "code",
   "execution_count": null,
   "metadata": {},
   "outputs": [],
   "source": [
    "plt.scatter(projected[:, 0], projected[:, 1],\n",
    "            c=labels, edgecolor='none', alpha=0.9,\n",
    "            cmap=plt.cm.get_cmap('plasma', 10))\n",
    "plt.xlabel('first principle component')\n",
    "plt.ylabel('second principle component')\n",
    "plt.colorbar();"
   ]
  },
  {
   "cell_type": "code",
   "execution_count": null,
   "metadata": {
    "collapsed": true
   },
   "outputs": [],
   "source": [
    "projected = my_PCA(data, num_components=3)"
   ]
  },
  {
   "cell_type": "code",
   "execution_count": null,
   "metadata": {},
   "outputs": [],
   "source": [
    "plt.scatter(projected[:, 0], projected[:, 1], projected[:, 2],\n",
    "            c=labels, edgecolor='none', alpha=0.9,\n",
    "            cmap=plt.cm.get_cmap('plasma', 10))\n",
    "plt.xlabel('first principle component')\n",
    "plt.ylabel('second principle component')\n",
    "plt.colorbar();"
   ]
  },
  {
   "cell_type": "markdown",
   "metadata": {},
   "source": [
    "### My neural network implementation"
   ]
  },
  {
   "cell_type": "code",
   "execution_count": null,
   "metadata": {},
   "outputs": [],
   "source": [
    "# Defining placeholder and variables in the scope of GPU\n",
    "with tf.device(\"/gpu:0\"):\n",
    "    x = tf.placeholder(shape=[None, 784], dtype=tf.float32)\n",
    "\n",
    "    w1 = tf.Variable(tf.truncated_normal(stddev=.1, shape=[784, 256]), \n",
    "                     dtype=tf.float32)\n",
    "    w2 = tf.Variable(tf.truncated_normal(stddev=.1, shape=[256, 64]), \n",
    "                     dtype=tf.float32)\n",
    "    w3 = tf.Variable(tf.truncated_normal(stddev=.1, shape=[64, 2]), \n",
    "                     dtype=tf.float32)\n",
    "    \n",
    "    # neural network layers\n",
    "    hidden_1 = tf.nn.relu(tf.matmul(x, w1))\n",
    "    hidden_2 = tf.nn.relu(tf.matmul(hidden_1, w2))\n",
    "    projection = tf.matmul(hidden_2, w3)\n",
    "    hidden_4 = tf.nn.relu(projection)\n",
    "    hidden_5 = tf.nn.relu(tf.matmul(hidden_4, tf.transpose(w3)))\n",
    "    hidden_6 = tf.nn.relu(tf.matmul(hidden_5, tf.transpose(w2)))\n",
    "    y = tf.matmul(hidden_6, tf.transpose(w1))\n",
    "    \n",
    "    # loss function and optimizer\n",
    "    loss = tf.reduce_mean(tf.reduce_sum((x - y) * (x - y), 1))\n",
    "    optimizer = tf.train.AdamOptimizer().minimize(loss)\n",
    "    init = tf.initialize_all_variables()"
   ]
  },
  {
   "cell_type": "code",
   "execution_count": null,
   "metadata": {},
   "outputs": [],
   "source": [
    "with tf.Session() as session:\n",
    "    session.run(init)\n",
    "    feed_dict = {x: data}\n",
    "\n",
    "    for batch in range(100000):\n",
    "        session.run(optimizer, feed_dict=feed_dict)\n",
    "\n",
    "        loss_, proj_ = session.run([loss, projection],\n",
    "                                         feed_dict=feed_dict)\n",
    "        \n",
    "        if batch % 100 == 0:\n",
    "            plt.clf()\n",
    "            plt.scatter(proj_[:, 0], proj_[:, 1],\n",
    "                        c=labels, edgecolor='none', alpha=0.9,\n",
    "                        cmap=plt.cm.get_cmap('plasma', 10))\n",
    "            plt.title('batch %d, loss %g' % (batch, loss_))\n",
    "            plt.show(False)\n",
    "            plt.pause(0.001)"
   ]
  },
  {
   "cell_type": "code",
   "execution_count": null,
   "metadata": {},
   "outputs": [],
   "source": [
    "# Defining placeholder and variables in the scope of GPU\n",
    "with tf.device(\"/gpu:0\"):\n",
    "    x = tf.placeholder(shape=[None, 784], dtype=tf.float32)\n",
    "\n",
    "    w1 = tf.Variable(tf.truncated_normal(stddev=.1, shape=[784, 256]), \n",
    "                     dtype=tf.float32)\n",
    "    w2 = tf.Variable(tf.truncated_normal(stddev=.1, shape=[256, 64]), \n",
    "                     dtype=tf.float32)\n",
    "    w3 = tf.Variable(tf.truncated_normal(stddev=.1, shape=[64, 3]), \n",
    "                     dtype=tf.float32)\n",
    "    \n",
    "    # neural network layers\n",
    "    hidden_1 = tf.nn.relu(tf.matmul(x, w1))\n",
    "    hidden_2 = tf.nn.relu(tf.matmul(hidden_1, w2))\n",
    "    projection = tf.matmul(hidden_2, w3)\n",
    "    hidden_4 = tf.nn.relu(projection)\n",
    "    hidden_5 = tf.nn.relu(tf.matmul(hidden_4, tf.transpose(w3)))\n",
    "    hidden_6 = tf.nn.relu(tf.matmul(hidden_5, tf.transpose(w2)))\n",
    "    y = tf.matmul(hidden_6, tf.transpose(w1))\n",
    "    \n",
    "    # loss function and optimizer\n",
    "    loss = tf.reduce_mean(tf.reduce_sum((x - y) * (x - y), 1))\n",
    "    optimizer = tf.train.AdamOptimizer().minimize(loss)\n",
    "    init = tf.initialize_all_variables()"
   ]
  },
  {
   "cell_type": "code",
   "execution_count": null,
   "metadata": {},
   "outputs": [],
   "source": [
    "%matplotlib inline\n",
    "with tf.Session() as session:\n",
    "    session.run(init)\n",
    "    feed_dict = {x: data}\n",
    "\n",
    "    for batch in range(100000):\n",
    "        session.run(optimizer, feed_dict=feed_dict)\n",
    "\n",
    "        loss_, proj_ = session.run([loss, projection],\n",
    "                                         feed_dict=feed_dict)\n",
    "        \n",
    "        if batch % 100 == 0:\n",
    "            plt.clf()\n",
    "            plt.scatter(proj_[:, 0], proj_[:, 1], proj_[:, 2],\n",
    "                        c=labels, edgecolor='none', alpha=0.9,\n",
    "                        cmap=plt.cm.get_cmap('plasma', 10))\n",
    "            plt.title('batch %d, loss %g' % (batch, loss_))\n",
    "            plt.show(False)\n",
    "            plt.pause(0.001)"
   ]
  },
  {
   "cell_type": "code",
   "execution_count": null,
   "metadata": {
    "collapsed": true
   },
   "outputs": [],
   "source": []
  }
 ],
 "metadata": {
  "kernelspec": {
   "display_name": "Python 3",
   "language": "python",
   "name": "python3"
  },
  "language_info": {
   "codemirror_mode": {
    "name": "ipython",
    "version": 3
   },
   "file_extension": ".py",
   "mimetype": "text/x-python",
   "name": "python",
   "nbconvert_exporter": "python",
   "pygments_lexer": "ipython3",
   "version": "3.5.3"
  }
 },
 "nbformat": 4,
 "nbformat_minor": 2
}
